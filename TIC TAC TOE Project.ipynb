{
 "cells": [
  {
   "cell_type": "markdown",
   "id": "e5c3784f",
   "metadata": {},
   "source": [
    "# Design and print the Game Board:\n"
   ]
  },
  {
   "cell_type": "code",
   "execution_count": 11,
   "id": "922dc44b",
   "metadata": {},
   "outputs": [],
   "source": [
    "board = [\n",
    "    [\"\", \"\", \"\"],\n",
    "    [\"\", \"\", \"\"],\n",
    "    [\"\", \"\", \"\"]\n",
    "]\n",
    "\n",
    "def print_board(board):\n",
    "    for row in board:\n",
    "        print(\" | \".join(row))\n",
    "        print(\"-\" * 9)\n"
   ]
  },
  {
   "cell_type": "markdown",
   "id": "64b6d6af",
   "metadata": {},
   "source": [
    "# Handle Player Moves:\n"
   ]
  },
  {
   "cell_type": "code",
   "execution_count": 12,
   "id": "ee78f28a",
   "metadata": {},
   "outputs": [],
   "source": [
    "def get_player_move(board, player):\n",
    "    while True:\n",
    "        try:\n",
    "            row = int(input(\"Enter row (0-2) for your move: \"))\n",
    "            col = int(input(\"Enter column (0-2) for your move: \"))\n",
    "            if 0 <= row <= 2 and 0 <= col <= 2 and board[row][col] == \"\":\n",
    "                board[row][col] = player\n",
    "                break\n",
    "            else:\n",
    "                print(\"Invalid move. Try again.\")\n",
    "        except ValueError:\n",
    "            print(\"Invalid input. Please enter numbers.\")\n"
   ]
  },
  {
   "cell_type": "markdown",
   "id": "9e57633d",
   "metadata": {},
   "source": [
    "# Check for a Win:"
   ]
  },
  {
   "cell_type": "code",
   "execution_count": 13,
   "id": "b3c0de91",
   "metadata": {},
   "outputs": [],
   "source": [
    "def check_win(board, player):\n",
    "    for row in board:\n",
    "        if all(square == player for square in row):\n",
    "            return True\n",
    "    for col in range(3):\n",
    "        if all(board[row][col] == player for row in range(3)):\n",
    "            return True\n",
    "    if all(board[i][i] == player for i in range(3)) or all(board[i][2 - i] == player for i in range(3)):\n",
    "        return True\n",
    "    return False\n"
   ]
  },
  {
   "cell_type": "markdown",
   "id": "2373e84e",
   "metadata": {},
   "source": [
    "# Check for a Tie:"
   ]
  },
  {
   "cell_type": "code",
   "execution_count": 14,
   "id": "27ebbb1c",
   "metadata": {},
   "outputs": [],
   "source": [
    "def check_tie(board):\n",
    "    return all(all(square != \"\" for square in row) for row in board)"
   ]
  },
  {
   "cell_type": "markdown",
   "id": "2e0b6963",
   "metadata": {},
   "source": [
    "# Main Game Loop:\n"
   ]
  },
  {
   "cell_type": "code",
   "execution_count": 15,
   "id": "72d10009",
   "metadata": {},
   "outputs": [
    {
     "name": "stdout",
     "output_type": "stream",
     "text": [
      " |  | \n",
      "---------\n",
      " |  | \n",
      "---------\n",
      " |  | \n",
      "---------\n",
      "Enter row (0-2) for your move: 1\n",
      "Enter column (0-2) for your move: 1\n",
      " |  | \n",
      "---------\n",
      " | X | \n",
      "---------\n",
      " |  | \n",
      "---------\n",
      "Enter row (0-2) for your move: 1\n",
      "Enter column (0-2) for your move: 2\n",
      " |  | \n",
      "---------\n",
      " | X | O\n",
      "---------\n",
      " |  | \n",
      "---------\n",
      "Enter row (0-2) for your move: 1\n",
      "Enter column (0-2) for your move: 3\n",
      "Invalid move. Try again.\n",
      "Enter row (0-2) for your move: 1\n",
      "Enter column (0-2) for your move: 0\n",
      " |  | \n",
      "---------\n",
      "X | X | O\n",
      "---------\n",
      " |  | \n",
      "---------\n",
      "Enter row (0-2) for your move: 2\n",
      "Enter column (0-2) for your move: 3\n",
      "Invalid move. Try again.\n",
      "Enter row (0-2) for your move: 2\n",
      "Enter column (0-2) for your move: 1\n",
      " |  | \n",
      "---------\n",
      "X | X | O\n",
      "---------\n",
      " | O | \n",
      "---------\n",
      "Enter row (0-2) for your move: 2\n",
      "Enter column (0-2) for your move: 2\n",
      " |  | \n",
      "---------\n",
      "X | X | O\n",
      "---------\n",
      " | O | X\n",
      "---------\n",
      "Enter row (0-2) for your move: 2\n",
      "Enter column (0-2) for your move: 0\n",
      " |  | \n",
      "---------\n",
      "X | X | O\n",
      "---------\n",
      "O | O | X\n",
      "---------\n",
      "Enter row (0-2) for your move: 3\n",
      "Enter column (0-2) for your move: 0\n",
      "Invalid move. Try again.\n",
      "Enter row (0-2) for your move: 3\n",
      "Enter column (0-2) for your move: 2\n",
      "Invalid move. Try again.\n",
      "Enter row (0-2) for your move: 0\n",
      "Enter column (0-2) for your move: 0\n",
      "X |  | \n",
      "---------\n",
      "X | X | O\n",
      "---------\n",
      "O | O | X\n",
      "---------\n",
      "Player X wins!\n"
     ]
    }
   ],
   "source": [
    "def main():\n",
    "    board = [[\"\", \"\", \"\"], [\"\", \"\", \"\"], [\"\", \"\", \"\"]]\n",
    "    players = [\"X\", \"O\"]\n",
    "    current_player = players[0]\n",
    "    \n",
    "    while True:\n",
    "        print_board(board)\n",
    "        get_player_move(board, current_player)\n",
    "        if check_win(board, current_player):\n",
    "            print_board(board)\n",
    "            print(f\"Player {current_player} wins!\")\n",
    "            break\n",
    "        if check_tie(board):\n",
    "            print_board(board)\n",
    "            print(\"It's a tie!\")\n",
    "            break\n",
    "        current_player = players[(players.index(current_player) + 1) % 2]\n",
    "\n",
    "if __name__ == \"__main__\":\n",
    "    main()\n"
   ]
  },
  {
   "cell_type": "code",
   "execution_count": null,
   "id": "854ebd30",
   "metadata": {},
   "outputs": [],
   "source": []
  },
  {
   "cell_type": "code",
   "execution_count": null,
   "id": "3df86bed",
   "metadata": {},
   "outputs": [],
   "source": []
  }
 ],
 "metadata": {
  "kernelspec": {
   "display_name": "Python 3 (ipykernel)",
   "language": "python",
   "name": "python3"
  },
  "language_info": {
   "codemirror_mode": {
    "name": "ipython",
    "version": 3
   },
   "file_extension": ".py",
   "mimetype": "text/x-python",
   "name": "python",
   "nbconvert_exporter": "python",
   "pygments_lexer": "ipython3",
   "version": "3.9.12"
  }
 },
 "nbformat": 4,
 "nbformat_minor": 5
}
